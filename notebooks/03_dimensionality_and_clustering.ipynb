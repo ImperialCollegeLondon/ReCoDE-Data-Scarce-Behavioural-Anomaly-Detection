# 03_dimensionality_and_clustering.ipynb

# ==========================
#  DIMENSIONALITY & CLUSTERING
# ==========================

# Week 3 - PCA, HDBSCAN clustering, plots

# 1. Import libraries
import pandas as pd
import numpy as np
import matplotlib.pyplot as plt
from sklearn.preprocessing import MinMaxScaler
from sklearn.decomposition import PCA
import hdbscan

# 2. Define file path
file_path = 'INSERT_YOUR_LOCAL_PATH/InternalBleeding14.csv'

# 3. Load dataset
df = pd.read_csv(file_path)

# 4. Display first 10 rows
print("\nFirst 10 rows of dataset:")
display(df.head(10))

# ==========================
# PCA TRANSFORMATION
# ==========================

# 5. Scale values before PCA
scaler = MinMaxScaler()
df['value_scaled'] = scaler.fit_transform(df[['value']])

# 6. Apply PCA (1 component for demonstration)
pca = PCA(n_components=1)
df['pca_component'] = pca.fit_transform(df[['value_scaled']])

# 7. Display transformed data
print("\nSample of PCA-transformed data:")
display(df.head(10))

# ==========================
# HDBSCAN CLUSTERING
# ==========================

# 8. Apply HDBSCAN
clusterer = hdbscan.HDBSCAN(min_cluster_size=50)
df['cluster'] = clusterer.fit_predict(df[['pca_component']])

# 9. Display sample cluster assignments
print("\nSample of data with cluster assignments:")
display(df.head(10))

# 10. Display cluster counts
print("\nCluster counts:")
display(df['cluster'].value_counts())

# ==========================
# VISUALISATION - CLUSTERS
# ==========================

# 11. Visualise HDBSCAN clustering assignments
plt.figure(figsize=(16, 6))

for label in df['cluster'].unique():
    subset = df[df['cluster'] == label]
    plt.scatter(subset['timestamp'], subset['pca_component'], label=f'Cluster {label}', s=10)

plt.title('HDBSCAN Cluster Assignments on PCA Component')
plt.xlabel('Timestamp')
plt.ylabel('PCA Component')
plt.legend()
plt.grid()
plt.show()

# ==========================
# FINAL CLEAN VISUAL OF ORIGINAL SERIES
# ==========================

# 12. Visualise original signal without any clustering
plt.figure(figsize=(16, 6))
plt.plot(df['timestamp'], df['value'])
plt.title('Original Signal - Full Time Series')
plt.xlabel('Timestamp')
plt.ylabel('Value')
plt.grid()
plt.show()

# ==========================
# WEEK 3 COMPLETED
# ==========================
