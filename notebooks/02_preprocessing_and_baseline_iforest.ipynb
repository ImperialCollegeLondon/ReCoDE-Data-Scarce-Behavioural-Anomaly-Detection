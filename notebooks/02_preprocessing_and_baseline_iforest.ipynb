# 02_preprocessing_and_baseline_iforest.ipynb

# ==========================
#  BASELINE ANOMALY DETECTION
# ==========================

# Week 2 - Apply preprocessing, run Isolation Forest, basic anomaly detection

# 1. Import libraries
import pandas as pd
import numpy as np
import matplotlib.pyplot as plt
from sklearn.preprocessing import MinMaxScaler
from sklearn.ensemble import IsolationForest

# 2. Define file path
file_path = 'INSERT_YOUR_LOCAL_PATH/InternalBleeding14.csv'

# 3. Load dataset
df = pd.read_csv(file_path)

# 4. Display first 10 rows
print("\nFirst 10 rows of dataset:")
display(df.head(10))

# ==========================
# DATA VALIDATION
# ==========================

# 5. Check for missing values
print("\nMissing values per column (verification before modelling):")
print(df.isnull().sum())

# 6. Check data types
print("\nData types of each column:")
print(df.dtypes)

# ==========================
# BASELINE ISOLATION FOREST
# ==========================

# 7. Scaling (Isolation Forest benefits from scaled values)
scaler = MinMaxScaler()
df['value_scaled'] = scaler.fit_transform(df[['value']])

# 8. Train Isolation Forest
model = IsolationForest(n_estimators=100, contamination=0.05, random_state=42)
df['anomaly_score'] = model.fit_predict(df[['value_scaled']])

# 9. Convert scores to binary anomaly labels (1=anomaly, 0=normal)
df['anomaly'] = df['anomaly_score'].apply(lambda x: 1 if x == -1 else 0)

# 10. Display preview of anomaly classification
print("\nSample of dataset with anomaly predictions:")
display(df.head(10))

# 11. Display anomaly counts
print("\nAnomaly counts:")
display(df['anomaly'].value_counts())

# ==========================
# VISUALISATION
# ==========================

# 12. Plot detected anomalies over full time series
plt.figure(figsize=(16, 6))
plt.plot(df['timestamp'], df['value'], label='Original Signal', linewidth=1)
plt.scatter(df[df['anomaly'] == 1]['timestamp'], df[df['anomaly'] == 1]['value'], 
            color='red', label='Anomalies', marker='x')
plt.title('Anomaly Detection using Isolation Forest')
plt.xlabel('Timestamp')
plt.ylabel('Value')
plt.legend()
plt.grid()
plt.show()

# ==========================
# WEEK 2 COMPLETED
# ==========================

