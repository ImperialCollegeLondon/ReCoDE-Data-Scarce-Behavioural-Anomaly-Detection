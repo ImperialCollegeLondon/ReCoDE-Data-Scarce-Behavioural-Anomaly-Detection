# 01_dataset_preparation.ipynb

# ==========================
#  DATASET PREPARATION
# ==========================

# Week 1 - Load and verify dataset structure

# 1. Import libraries
import pandas as pd
import numpy as np
import matplotlib.pyplot as plt

# 2. Define file path
file_path = 'INSERT_YOUR_LOCAL_PATH/InternalBleeding14.csv'

# 3. Load dataset
df = pd.read_csv(file_path)

# 4. Display first 10 rows
print("\nFirst 10 rows of dataset:")
display(df.head(10))

# ==========================
# INITIAL DATA INSPECTION
# ==========================

# 5. Check data structure
print("\nDataset information:")
df.info()

# 6. Check for missing values
print("\nMissing values per column:")
print(df.isnull().sum())

# 7. Display descriptive statistics
print("\nBasic descriptive statistics:")
display(df.describe())

# 8. Plot the full time series
plt.figure(figsize=(14, 6))
plt.plot(df['timestamp'], df['value'], color='steelblue')
plt.title('InternalBleeding14 - Full Time Series')
plt.xlabel('Timestamp')
plt.ylabel('Value')
plt.grid()
plt.show()

# ==========================
#  WEEK 1 COMPLETED
# ==========================

